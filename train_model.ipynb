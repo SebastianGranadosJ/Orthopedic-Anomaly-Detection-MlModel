{
 "cells": [
  {
   "cell_type": "markdown",
   "id": "99993f2c",
   "metadata": {},
   "source": [
    "# Building a Binary Classification Model with XGBoost to Detect Orthopedic Anomalies\n"
   ]
  },
  {
   "cell_type": "markdown",
   "id": "c2496001",
   "metadata": {},
   "source": [
    "### Author\n",
    "\n",
    "**Juan Sebastian Granados Jaimes**  \n",
    "Student of Systems and Computer Engineering\n",
    "\n",
    "📧 Email: juansebastiangranadosjaimes26@gmail.com\n",
    "\n",
    "🔗 LinkedIn: [linkedin.com/in/juan-sebastian-granados-jaimes-304691272/](https://www.linkedin.com/in/juan-sebastian-granados-jaimes-304691272/)  \n",
    "\n",
    "💻 GitHub: [github.com/SebastianGranadosJ](https://github.com/SebastianGranadosJ)\n"
   ]
  },
  {
   "cell_type": "markdown",
   "id": "d553955a",
   "metadata": {},
   "source": [
    "## About this project\n",
    "\n",
    "This project focuses on training and evaluating a binary classification model to predict orthopedic anomalies using biometric data from patients.  \n",
    "The model is built with **XGBoost**, and its performance is assessed through metrics such as sensitivity, specificity, accuracy, precision, and confusion matrix.  \n",
    "To improve results, hyperparameter fine-tuning is performed using cross-validation and average error as the optimization criterion.\n",
    "\n",
    "It was a nice learning experience. I hope this project can also help you learn something new or give you ideas for your own experiments in machine learning :)\n"
   ]
  },
  {
   "cell_type": "markdown",
   "id": "990d9747",
   "metadata": {},
   "source": [
    "## About the Dataset\n",
    "\n",
    "The dataset used in this project comes from a biomedical study conducted by Dr. Henrique da Mota at the Group of Applied Research in Orthopaedics (GARO), Centre Médico-Chirurgical de Réadaptation des Massues in Lyon, France.  \n",
    "\n",
    "It was designed to support two related classification tasks:\n",
    "\n",
    "**Multiclass classification (3 classes):**\n",
    "- *Normal (NO):* 100 patients\n",
    "- *Disk Hernia (DH):* 60 patients\n",
    "- *Spondylolisthesis (SL):* 150 patients\n",
    "\n",
    "**Binary classification (2 classes):**\n",
    "- *Normal (NO):* 100 patients\n",
    "- *Abnormal (AB):* 210 patients (a combination of Disk Hernia and Spondylolisthesis)\n",
    "\n",
    "For this project, we focus on the second task — a **binary classification problem** to distinguish between patients with normal conditions and those with orthopedic anomalies (abnormal).  \n",
    "\n",
    "#### Dataset Features\n",
    "Each patient is represented by six biomechanical attributes derived from the shape and orientation of the pelvis and lumbar spine:\n",
    "\n",
    "- Pelvic incidence  \n",
    "- Pelvic tilt  \n",
    "- Lumbar lordosis angle  \n",
    "- Sacral slope  \n",
    "- Pelvic radius  \n",
    "- Degree of spondylolisthesis  \n",
    "\n",
    "### Dataset Source\n",
    "This dataset is publicly available at the **UCI Machine Learning Repository**:  \n",
    "[Dua, D. & Graff, C. (2019). UCI Machine Learning Repository](https://archive.ics.uci.edu/ml/datasets/Vertebral+Column)\n"
   ]
  },
  {
   "cell_type": "markdown",
   "id": "57ef5572",
   "metadata": {},
   "source": [
    "## Desarrollo del Labortorio"
   ]
  },
  {
   "cell_type": "markdown",
   "id": "5a745eae",
   "metadata": {},
   "source": [
    "## Libraries Used\n",
    "\n",
    "In this notebook, the following Python libraries are used:\n",
    "\n",
    "- **Pandas** for data handling and preprocessing  \n",
    "- **XGBoost** for model training  \n",
    "- **Scikit-learn** for evaluation metrics and cross-validation  \n",
    "- **Matplotlib & Seaborn** for visualization  \n"
   ]
  },
  {
   "cell_type": "code",
   "execution_count": 1,
   "id": "d86e5aac",
   "metadata": {},
   "outputs": [],
   "source": [
    "import warnings, requests, zipfile, io\n",
    "warnings.simplefilter('ignore')\n",
    "import pandas as pd\n",
    "from scipy.io import arff\n",
    "from sklearn.model_selection import train_test_split\n",
    "import seaborn as sns\n",
    "import matplotlib.pyplot as plt\n",
    "from sklearn.metrics import confusion_matrix\n",
    "from sklearn.metrics import roc_curve, auc\n",
    "import numpy as np\n",
    "\n",
    "import xgboost as xgb\n",
    "from sklearn.metrics import roc_auc_score\n",
    "from sklearn.model_selection import train_test_split\n",
    "import pandas as pd\n",
    "from sklearn.metrics import confusion_matrix\n",
    "import os\n"
   ]
  },
  {
   "cell_type": "markdown",
   "id": "57032e85",
   "metadata": {},
   "source": [
    "### Loading the Dataset\n",
    "\n"
   ]
  },
  {
   "cell_type": "code",
   "execution_count": 2,
   "id": "e1cdc8b0",
   "metadata": {},
   "outputs": [],
   "source": [
    "\n",
    "f_zip = 'http://archive.ics.uci.edu/ml/machine-learning-databases/00212/vertebral_column_data.zip'\n",
    "\n",
    "\n",
    "output_folder = \"dataset\"\n",
    "os.makedirs(output_folder, exist_ok=True)\n",
    "\n",
    "\n",
    "r = requests.get(f_zip, stream=True)\n",
    "Vertebral_zip = zipfile.ZipFile(io.BytesIO(r.content))\n",
    "\n",
    "\n",
    "Vertebral_zip.extractall(path=output_folder)\n",
    "\n",
    "\n",
    "arff_path = os.path.join(output_folder, 'column_2C_weka.arff')\n",
    "data = arff.loadarff(arff_path)\n",
    "df = pd.DataFrame(data[0])\n"
   ]
  },
  {
   "cell_type": "code",
   "execution_count": 3,
   "id": "07feeb60",
   "metadata": {},
   "outputs": [
    {
     "data": {
      "text/html": [
       "<div>\n",
       "<style scoped>\n",
       "    .dataframe tbody tr th:only-of-type {\n",
       "        vertical-align: middle;\n",
       "    }\n",
       "\n",
       "    .dataframe tbody tr th {\n",
       "        vertical-align: top;\n",
       "    }\n",
       "\n",
       "    .dataframe thead th {\n",
       "        text-align: right;\n",
       "    }\n",
       "</style>\n",
       "<table border=\"1\" class=\"dataframe\">\n",
       "  <thead>\n",
       "    <tr style=\"text-align: right;\">\n",
       "      <th></th>\n",
       "      <th>pelvic_incidence</th>\n",
       "      <th>pelvic_tilt</th>\n",
       "      <th>lumbar_lordosis_angle</th>\n",
       "      <th>sacral_slope</th>\n",
       "      <th>pelvic_radius</th>\n",
       "      <th>degree_spondylolisthesis</th>\n",
       "      <th>class</th>\n",
       "    </tr>\n",
       "  </thead>\n",
       "  <tbody>\n",
       "    <tr>\n",
       "      <th>0</th>\n",
       "      <td>63.027817</td>\n",
       "      <td>22.552586</td>\n",
       "      <td>39.609117</td>\n",
       "      <td>40.475232</td>\n",
       "      <td>98.672917</td>\n",
       "      <td>-0.254400</td>\n",
       "      <td>b'Abnormal'</td>\n",
       "    </tr>\n",
       "    <tr>\n",
       "      <th>1</th>\n",
       "      <td>39.056951</td>\n",
       "      <td>10.060991</td>\n",
       "      <td>25.015378</td>\n",
       "      <td>28.995960</td>\n",
       "      <td>114.405425</td>\n",
       "      <td>4.564259</td>\n",
       "      <td>b'Abnormal'</td>\n",
       "    </tr>\n",
       "    <tr>\n",
       "      <th>2</th>\n",
       "      <td>68.832021</td>\n",
       "      <td>22.218482</td>\n",
       "      <td>50.092194</td>\n",
       "      <td>46.613539</td>\n",
       "      <td>105.985135</td>\n",
       "      <td>-3.530317</td>\n",
       "      <td>b'Abnormal'</td>\n",
       "    </tr>\n",
       "    <tr>\n",
       "      <th>3</th>\n",
       "      <td>69.297008</td>\n",
       "      <td>24.652878</td>\n",
       "      <td>44.311238</td>\n",
       "      <td>44.644130</td>\n",
       "      <td>101.868495</td>\n",
       "      <td>11.211523</td>\n",
       "      <td>b'Abnormal'</td>\n",
       "    </tr>\n",
       "    <tr>\n",
       "      <th>4</th>\n",
       "      <td>49.712859</td>\n",
       "      <td>9.652075</td>\n",
       "      <td>28.317406</td>\n",
       "      <td>40.060784</td>\n",
       "      <td>108.168725</td>\n",
       "      <td>7.918501</td>\n",
       "      <td>b'Abnormal'</td>\n",
       "    </tr>\n",
       "  </tbody>\n",
       "</table>\n",
       "</div>"
      ],
      "text/plain": [
       "   pelvic_incidence  pelvic_tilt  lumbar_lordosis_angle  sacral_slope  \\\n",
       "0         63.027817    22.552586              39.609117     40.475232   \n",
       "1         39.056951    10.060991              25.015378     28.995960   \n",
       "2         68.832021    22.218482              50.092194     46.613539   \n",
       "3         69.297008    24.652878              44.311238     44.644130   \n",
       "4         49.712859     9.652075              28.317406     40.060784   \n",
       "\n",
       "   pelvic_radius  degree_spondylolisthesis        class  \n",
       "0      98.672917                 -0.254400  b'Abnormal'  \n",
       "1     114.405425                  4.564259  b'Abnormal'  \n",
       "2     105.985135                 -3.530317  b'Abnormal'  \n",
       "3     101.868495                 11.211523  b'Abnormal'  \n",
       "4     108.168725                  7.918501  b'Abnormal'  "
      ]
     },
     "execution_count": 3,
     "metadata": {},
     "output_type": "execute_result"
    }
   ],
   "source": [
    "df.head()"
   ]
  },
  {
   "cell_type": "code",
   "execution_count": 4,
   "id": "51faab58",
   "metadata": {},
   "outputs": [
    {
     "data": {
      "text/plain": [
       "array([b'Abnormal', b'Normal'], dtype=object)"
      ]
     },
     "execution_count": 4,
     "metadata": {},
     "output_type": "execute_result"
    }
   ],
   "source": [
    "df[\"class\"].unique()"
   ]
  },
  {
   "cell_type": "markdown",
   "id": "165051df",
   "metadata": {},
   "source": [
    "### 3. Encoding the Target Variable\n",
    "\n",
    "The `class` column is our **target variable**.  \n",
    "Since machine learning models work with numeric values, we map the categories as follows:\n",
    "\n",
    "- **Normal → 0**  \n",
    "- **Abnormal → 1**"
   ]
  },
  {
   "cell_type": "code",
   "execution_count": 5,
   "id": "6ee4faa9",
   "metadata": {},
   "outputs": [],
   "source": [
    "\n",
    "class_mapper = {b'Abnormal':1,b'Normal':0}\n",
    "df['class']=df['class'].replace(class_mapper)"
   ]
  },
  {
   "cell_type": "code",
   "execution_count": 6,
   "id": "9011c5f6",
   "metadata": {},
   "outputs": [
    {
     "data": {
      "text/html": [
       "<div>\n",
       "<style scoped>\n",
       "    .dataframe tbody tr th:only-of-type {\n",
       "        vertical-align: middle;\n",
       "    }\n",
       "\n",
       "    .dataframe tbody tr th {\n",
       "        vertical-align: top;\n",
       "    }\n",
       "\n",
       "    .dataframe thead th {\n",
       "        text-align: right;\n",
       "    }\n",
       "</style>\n",
       "<table border=\"1\" class=\"dataframe\">\n",
       "  <thead>\n",
       "    <tr style=\"text-align: right;\">\n",
       "      <th></th>\n",
       "      <th>pelvic_incidence</th>\n",
       "      <th>pelvic_tilt</th>\n",
       "      <th>lumbar_lordosis_angle</th>\n",
       "      <th>sacral_slope</th>\n",
       "      <th>pelvic_radius</th>\n",
       "      <th>degree_spondylolisthesis</th>\n",
       "      <th>class</th>\n",
       "    </tr>\n",
       "  </thead>\n",
       "  <tbody>\n",
       "    <tr>\n",
       "      <th>0</th>\n",
       "      <td>63.027817</td>\n",
       "      <td>22.552586</td>\n",
       "      <td>39.609117</td>\n",
       "      <td>40.475232</td>\n",
       "      <td>98.672917</td>\n",
       "      <td>-0.254400</td>\n",
       "      <td>1</td>\n",
       "    </tr>\n",
       "    <tr>\n",
       "      <th>1</th>\n",
       "      <td>39.056951</td>\n",
       "      <td>10.060991</td>\n",
       "      <td>25.015378</td>\n",
       "      <td>28.995960</td>\n",
       "      <td>114.405425</td>\n",
       "      <td>4.564259</td>\n",
       "      <td>1</td>\n",
       "    </tr>\n",
       "    <tr>\n",
       "      <th>2</th>\n",
       "      <td>68.832021</td>\n",
       "      <td>22.218482</td>\n",
       "      <td>50.092194</td>\n",
       "      <td>46.613539</td>\n",
       "      <td>105.985135</td>\n",
       "      <td>-3.530317</td>\n",
       "      <td>1</td>\n",
       "    </tr>\n",
       "    <tr>\n",
       "      <th>3</th>\n",
       "      <td>69.297008</td>\n",
       "      <td>24.652878</td>\n",
       "      <td>44.311238</td>\n",
       "      <td>44.644130</td>\n",
       "      <td>101.868495</td>\n",
       "      <td>11.211523</td>\n",
       "      <td>1</td>\n",
       "    </tr>\n",
       "    <tr>\n",
       "      <th>4</th>\n",
       "      <td>49.712859</td>\n",
       "      <td>9.652075</td>\n",
       "      <td>28.317406</td>\n",
       "      <td>40.060784</td>\n",
       "      <td>108.168725</td>\n",
       "      <td>7.918501</td>\n",
       "      <td>1</td>\n",
       "    </tr>\n",
       "  </tbody>\n",
       "</table>\n",
       "</div>"
      ],
      "text/plain": [
       "   pelvic_incidence  pelvic_tilt  lumbar_lordosis_angle  sacral_slope  \\\n",
       "0         63.027817    22.552586              39.609117     40.475232   \n",
       "1         39.056951    10.060991              25.015378     28.995960   \n",
       "2         68.832021    22.218482              50.092194     46.613539   \n",
       "3         69.297008    24.652878              44.311238     44.644130   \n",
       "4         49.712859     9.652075              28.317406     40.060784   \n",
       "\n",
       "   pelvic_radius  degree_spondylolisthesis  class  \n",
       "0      98.672917                 -0.254400      1  \n",
       "1     114.405425                  4.564259      1  \n",
       "2     105.985135                 -3.530317      1  \n",
       "3     101.868495                 11.211523      1  \n",
       "4     108.168725                  7.918501      1  "
      ]
     },
     "execution_count": 6,
     "metadata": {},
     "output_type": "execute_result"
    }
   ],
   "source": [
    "df.head()"
   ]
  },
  {
   "cell_type": "code",
   "execution_count": 7,
   "id": "2ed2ed15",
   "metadata": {},
   "outputs": [
    {
     "data": {
      "text/html": [
       "<div>\n",
       "<style scoped>\n",
       "    .dataframe tbody tr th:only-of-type {\n",
       "        vertical-align: middle;\n",
       "    }\n",
       "\n",
       "    .dataframe tbody tr th {\n",
       "        vertical-align: top;\n",
       "    }\n",
       "\n",
       "    .dataframe thead th {\n",
       "        text-align: right;\n",
       "    }\n",
       "</style>\n",
       "<table border=\"1\" class=\"dataframe\">\n",
       "  <thead>\n",
       "    <tr style=\"text-align: right;\">\n",
       "      <th></th>\n",
       "      <th>class</th>\n",
       "      <th>pelvic_incidence</th>\n",
       "      <th>pelvic_tilt</th>\n",
       "      <th>lumbar_lordosis_angle</th>\n",
       "      <th>sacral_slope</th>\n",
       "      <th>pelvic_radius</th>\n",
       "      <th>degree_spondylolisthesis</th>\n",
       "    </tr>\n",
       "  </thead>\n",
       "  <tbody>\n",
       "    <tr>\n",
       "      <th>0</th>\n",
       "      <td>1</td>\n",
       "      <td>63.027817</td>\n",
       "      <td>22.552586</td>\n",
       "      <td>39.609117</td>\n",
       "      <td>40.475232</td>\n",
       "      <td>98.672917</td>\n",
       "      <td>-0.254400</td>\n",
       "    </tr>\n",
       "    <tr>\n",
       "      <th>1</th>\n",
       "      <td>1</td>\n",
       "      <td>39.056951</td>\n",
       "      <td>10.060991</td>\n",
       "      <td>25.015378</td>\n",
       "      <td>28.995960</td>\n",
       "      <td>114.405425</td>\n",
       "      <td>4.564259</td>\n",
       "    </tr>\n",
       "    <tr>\n",
       "      <th>2</th>\n",
       "      <td>1</td>\n",
       "      <td>68.832021</td>\n",
       "      <td>22.218482</td>\n",
       "      <td>50.092194</td>\n",
       "      <td>46.613539</td>\n",
       "      <td>105.985135</td>\n",
       "      <td>-3.530317</td>\n",
       "    </tr>\n",
       "    <tr>\n",
       "      <th>3</th>\n",
       "      <td>1</td>\n",
       "      <td>69.297008</td>\n",
       "      <td>24.652878</td>\n",
       "      <td>44.311238</td>\n",
       "      <td>44.644130</td>\n",
       "      <td>101.868495</td>\n",
       "      <td>11.211523</td>\n",
       "    </tr>\n",
       "    <tr>\n",
       "      <th>4</th>\n",
       "      <td>1</td>\n",
       "      <td>49.712859</td>\n",
       "      <td>9.652075</td>\n",
       "      <td>28.317406</td>\n",
       "      <td>40.060784</td>\n",
       "      <td>108.168725</td>\n",
       "      <td>7.918501</td>\n",
       "    </tr>\n",
       "  </tbody>\n",
       "</table>\n",
       "</div>"
      ],
      "text/plain": [
       "   class  pelvic_incidence  pelvic_tilt  lumbar_lordosis_angle  sacral_slope  \\\n",
       "0      1         63.027817    22.552586              39.609117     40.475232   \n",
       "1      1         39.056951    10.060991              25.015378     28.995960   \n",
       "2      1         68.832021    22.218482              50.092194     46.613539   \n",
       "3      1         69.297008    24.652878              44.311238     44.644130   \n",
       "4      1         49.712859     9.652075              28.317406     40.060784   \n",
       "\n",
       "   pelvic_radius  degree_spondylolisthesis  \n",
       "0      98.672917                 -0.254400  \n",
       "1     114.405425                  4.564259  \n",
       "2     105.985135                 -3.530317  \n",
       "3     101.868495                 11.211523  \n",
       "4     108.168725                  7.918501  "
      ]
     },
     "execution_count": 7,
     "metadata": {},
     "output_type": "execute_result"
    }
   ],
   "source": [
    "cols = ['class'] + [col for col in df.columns if col != 'class']\n",
    "df = df[cols]\n",
    "df.head()\n",
    "\n"
   ]
  },
  {
   "cell_type": "markdown",
   "id": "0afd87b3",
   "metadata": {},
   "source": [
    "### 4. Data Splitting\n",
    "\n",
    "The dataset is divided into three subsets:  \n",
    "\n",
    "1. **Train (80%)** → used to fit the model  \n",
    "2. **Validation (10%)** → used for tuning and avoiding overfitting  \n",
    "3. **Test (10%)** → used only at the end to evaluate final performance  \n",
    "\n",
    "We use `train_test_split` with **stratified sampling** (`stratify`) to preserve class balance, and fix a `random_state` for reproducibility.\n"
   ]
  },
  {
   "cell_type": "code",
   "execution_count": 8,
   "id": "31b8f322",
   "metadata": {},
   "outputs": [],
   "source": [
    "train, test_and_validate = train_test_split(df, test_size=0.2, random_state=42, stratify=df['class'])\n",
    "test, validate = train_test_split(test_and_validate, test_size=0.5, random_state=42, stratify=test_and_validate['class'])"
   ]
  },
  {
   "cell_type": "markdown",
   "id": "6b72d5f8",
   "metadata": {},
   "source": [
    "> **Note:** These subsets are saved as CSV files inside the `/database` folder, simulating a real training scenario where data would typically be stored in an external database rather than directly in the execution environment.\n"
   ]
  },
  {
   "cell_type": "code",
   "execution_count": 9,
   "id": "f7a51079",
   "metadata": {},
   "outputs": [],
   "source": [
    "train_file='vertebral_train.csv'\n",
    "test_file='vertebral_test.csv'\n",
    "validate_file='vertebral_validate.csv'\n",
    "\n",
    "train.to_csv('database/' + train_file, index = False, header=False)\n",
    "test.to_csv('database/' + test_file, index = False, header=False)\n",
    "validate.to_csv('database/' + validate_file, index = False, header=False)"
   ]
  },
  {
   "cell_type": "markdown",
   "id": "1f9b323d",
   "metadata": {},
   "source": [
    "### 5. Model Training  \n",
    "\n",
    "In this step, the dataset is split into **features (`X`)** and the **target label (`y`)**, for both training and validation sets.  \n",
    "- `X_train` and `X_val` contain only the biomechanical attributes (input columns).  \n",
    "- `y_train` and `y_val` contain the target variable (`class`) that the model needs to predict.  \n",
    "\n",
    "Since **XGBoost** works with its own optimized data structure called `DMatrix`, both sets are converted into this format:  \n",
    "- `DMatrix` stores features and labels more efficiently.  \n",
    "- It improves memory usage and training speed.  \n",
    "- It allows the data to be passed directly into XGBoost’s internal algorithms.  \n",
    "\n",
    "For this reason, we create `dtrain` (training data) and `dval` (validation data), each containing both the features and labels.\n"
   ]
  },
  {
   "cell_type": "code",
   "execution_count": 10,
   "id": "6c58ac15",
   "metadata": {},
   "outputs": [],
   "source": [
    "X_train = train.iloc[:, 1:] # Features\n",
    "y_train = train.iloc[:, 0] # labels \n",
    "\n",
    "X_val = validate.iloc[:, 1:] # Features\n",
    "y_val = validate.iloc[:, 0] # labels \n",
    "\n",
    "\n",
    "dtrain = xgb.DMatrix(X_train, label=y_train)\n",
    "dval = xgb.DMatrix(X_val, label=y_val)\n",
    "\n"
   ]
  },
  {
   "cell_type": "markdown",
   "id": "5066dc83",
   "metadata": {},
   "source": [
    "\n",
    "The model is configured and trained using **XGBoost**:  \n",
    "\n",
    "1. **Parameters (`params`)**:  \n",
    "   - `\"objective\": \"binary:logistic\"` → binary classification problem, predicting whether a subject has an orthopedic abnormality.  \n",
    "   - `\"eval_metric\": \"auc\"` → the chosen evaluation metric is **AUC-ROC**, which measures how well the model separates the two classes (higher is better).  \n",
    "\n",
    "2. **Evaluation list (`evals`)**:  \n",
    "   Both `dtrain` and `dval` are included so that XGBoost reports the model’s performance on training and validation data, helping detect overfitting.  \n",
    "\n",
    "3. **Training**:  \n",
    "   The model is trained with `xgb.train`, using:  \n",
    "   - the defined parameters,  \n",
    "   - the training dataset (`dtrain`),  \n",
    "   - `num_boost_round=42` (number of boosting iterations),  \n",
    "   - and the evaluation sets (`evals`).  \n",
    "\n",
    "At the end, the trained binary classification model is stored as `modelo_entrenado.model`.  \n"
   ]
  },
  {
   "cell_type": "code",
   "execution_count": 11,
   "id": "38da1055",
   "metadata": {},
   "outputs": [],
   "source": [
    "\n",
    "params = {\n",
    "    \"objective\": \"binary:logistic\", \n",
    "    \"eval_metric\": \"auc\" \n",
    "} \n",
    "\n",
    "evals = [(dtrain, \"train\"), (dval, \"validation\")] \n",
    "\n",
    "model = xgb.train(params, dtrain, num_boost_round=42, evals=evals,  verbose_eval=False)\n",
    "\n",
    "model.save_model(\"model/no_tunned.model\")"
   ]
  },
  {
   "cell_type": "markdown",
   "id": "2db61859",
   "metadata": {},
   "source": [
    "The test set is prepared for the final evaluation:  \n",
    "\n",
    "- `X_test` → input features.  \n",
    "- `y_test` → true labels used to assess model performance.  \n",
    "- `dtest` → features converted into an **XGBoost DMatrix**, required for prediction.  \n",
    "\n",
    "Unlike training and validation, labels are not included in the DMatrix since this dataset is only used for generating predictions. "
   ]
  },
  {
   "cell_type": "code",
   "execution_count": 12,
   "id": "9218b110",
   "metadata": {},
   "outputs": [],
   "source": [
    "X_test = test.iloc[:, 1:]\n",
    "y_test = test.iloc[:, 0]\n",
    "dtest = xgb.DMatrix(X_test)"
   ]
  },
  {
   "cell_type": "code",
   "execution_count": 13,
   "id": "b59df63c",
   "metadata": {},
   "outputs": [
    {
     "data": {
      "text/html": [
       "<div>\n",
       "<style scoped>\n",
       "    .dataframe tbody tr th:only-of-type {\n",
       "        vertical-align: middle;\n",
       "    }\n",
       "\n",
       "    .dataframe tbody tr th {\n",
       "        vertical-align: top;\n",
       "    }\n",
       "\n",
       "    .dataframe thead th {\n",
       "        text-align: right;\n",
       "    }\n",
       "</style>\n",
       "<table border=\"1\" class=\"dataframe\">\n",
       "  <thead>\n",
       "    <tr style=\"text-align: right;\">\n",
       "      <th></th>\n",
       "      <th>class_predicted_probability</th>\n",
       "    </tr>\n",
       "  </thead>\n",
       "  <tbody>\n",
       "    <tr>\n",
       "      <th>0</th>\n",
       "      <td>0.996712</td>\n",
       "    </tr>\n",
       "    <tr>\n",
       "      <th>1</th>\n",
       "      <td>0.601601</td>\n",
       "    </tr>\n",
       "    <tr>\n",
       "      <th>2</th>\n",
       "      <td>0.991119</td>\n",
       "    </tr>\n",
       "    <tr>\n",
       "      <th>3</th>\n",
       "      <td>0.996319</td>\n",
       "    </tr>\n",
       "    <tr>\n",
       "      <th>4</th>\n",
       "      <td>0.951055</td>\n",
       "    </tr>\n",
       "  </tbody>\n",
       "</table>\n",
       "</div>"
      ],
      "text/plain": [
       "   class_predicted_probability\n",
       "0                     0.996712\n",
       "1                     0.601601\n",
       "2                     0.991119\n",
       "3                     0.996319\n",
       "4                     0.951055"
      ]
     },
     "execution_count": 13,
     "metadata": {},
     "output_type": "execute_result"
    }
   ],
   "source": [
    "class_predicted_probability = model.predict(dtest)\n",
    "\n",
    "df_probs = pd.DataFrame(class_predicted_probability, columns=['class_predicted_probability'])\n",
    "\n",
    "df_probs.head()\n"
   ]
  },
  {
   "cell_type": "markdown",
   "id": "f62abf59",
   "metadata": {},
   "source": [
    "### 6. Threshold Application  \n",
    "\n",
    "Predicted probabilities are converted into binary classes using a **threshold of 0.65**:  \n",
    "- `> 0.65` → `1` (*Abnormal*).  \n",
    "- `≤ 0.65` → `0` (*Normal*).  \n",
    "\n",
    "This threshold acts as the cutoff point. Instead of the default `0.5`, a higher value (`0.65`) is chosen to increase confidence before labeling a case as *Abnormal*. The final binary predictions are stored in the column `predicted_class`.  \n"
   ]
  },
  {
   "cell_type": "code",
   "execution_count": 14,
   "id": "b9b4b629",
   "metadata": {},
   "outputs": [
    {
     "data": {
      "text/html": [
       "<div>\n",
       "<style scoped>\n",
       "    .dataframe tbody tr th:only-of-type {\n",
       "        vertical-align: middle;\n",
       "    }\n",
       "\n",
       "    .dataframe tbody tr th {\n",
       "        vertical-align: top;\n",
       "    }\n",
       "\n",
       "    .dataframe thead th {\n",
       "        text-align: right;\n",
       "    }\n",
       "</style>\n",
       "<table border=\"1\" class=\"dataframe\">\n",
       "  <thead>\n",
       "    <tr style=\"text-align: right;\">\n",
       "      <th></th>\n",
       "      <th>class_predicted_probability</th>\n",
       "      <th>predicted_class</th>\n",
       "    </tr>\n",
       "  </thead>\n",
       "  <tbody>\n",
       "    <tr>\n",
       "      <th>0</th>\n",
       "      <td>0.996712</td>\n",
       "      <td>1</td>\n",
       "    </tr>\n",
       "    <tr>\n",
       "      <th>1</th>\n",
       "      <td>0.601601</td>\n",
       "      <td>0</td>\n",
       "    </tr>\n",
       "    <tr>\n",
       "      <th>2</th>\n",
       "      <td>0.991119</td>\n",
       "      <td>1</td>\n",
       "    </tr>\n",
       "    <tr>\n",
       "      <th>3</th>\n",
       "      <td>0.996319</td>\n",
       "      <td>1</td>\n",
       "    </tr>\n",
       "    <tr>\n",
       "      <th>4</th>\n",
       "      <td>0.951055</td>\n",
       "      <td>1</td>\n",
       "    </tr>\n",
       "  </tbody>\n",
       "</table>\n",
       "</div>"
      ],
      "text/plain": [
       "   class_predicted_probability  predicted_class\n",
       "0                     0.996712                1\n",
       "1                     0.601601                0\n",
       "2                     0.991119                1\n",
       "3                     0.996319                1\n",
       "4                     0.951055                1"
      ]
     },
     "execution_count": 14,
     "metadata": {},
     "output_type": "execute_result"
    }
   ],
   "source": [
    "\n",
    "def binary_convert(x):\n",
    "    threshold = 0.65\n",
    "    if x > threshold:\n",
    "        return 1\n",
    "    else:\n",
    "        return 0\n",
    "\n",
    "\n",
    "df_probs['predicted_class'] = df_probs['class_predicted_probability'].apply(binary_convert)\n",
    "df_probs.head()"
   ]
  },
  {
   "cell_type": "code",
   "execution_count": 15,
   "id": "31aff8b5",
   "metadata": {},
   "outputs": [
    {
     "data": {
      "text/html": [
       "<div>\n",
       "<style scoped>\n",
       "    .dataframe tbody tr th:only-of-type {\n",
       "        vertical-align: middle;\n",
       "    }\n",
       "\n",
       "    .dataframe tbody tr th {\n",
       "        vertical-align: top;\n",
       "    }\n",
       "\n",
       "    .dataframe thead th {\n",
       "        text-align: right;\n",
       "    }\n",
       "</style>\n",
       "<table border=\"1\" class=\"dataframe\">\n",
       "  <thead>\n",
       "    <tr style=\"text-align: right;\">\n",
       "      <th></th>\n",
       "      <th>class_predicted_probability</th>\n",
       "      <th>predicted_class</th>\n",
       "      <th>real_class</th>\n",
       "    </tr>\n",
       "  </thead>\n",
       "  <tbody>\n",
       "    <tr>\n",
       "      <th>0</th>\n",
       "      <td>0.996712</td>\n",
       "      <td>1</td>\n",
       "      <td>1</td>\n",
       "    </tr>\n",
       "    <tr>\n",
       "      <th>1</th>\n",
       "      <td>0.601601</td>\n",
       "      <td>0</td>\n",
       "      <td>0</td>\n",
       "    </tr>\n",
       "    <tr>\n",
       "      <th>2</th>\n",
       "      <td>0.991119</td>\n",
       "      <td>1</td>\n",
       "      <td>1</td>\n",
       "    </tr>\n",
       "    <tr>\n",
       "      <th>3</th>\n",
       "      <td>0.996319</td>\n",
       "      <td>1</td>\n",
       "      <td>1</td>\n",
       "    </tr>\n",
       "    <tr>\n",
       "      <th>4</th>\n",
       "      <td>0.951055</td>\n",
       "      <td>1</td>\n",
       "      <td>1</td>\n",
       "    </tr>\n",
       "    <tr>\n",
       "      <th>5</th>\n",
       "      <td>0.996943</td>\n",
       "      <td>1</td>\n",
       "      <td>1</td>\n",
       "    </tr>\n",
       "    <tr>\n",
       "      <th>6</th>\n",
       "      <td>0.993199</td>\n",
       "      <td>1</td>\n",
       "      <td>1</td>\n",
       "    </tr>\n",
       "    <tr>\n",
       "      <th>7</th>\n",
       "      <td>0.983054</td>\n",
       "      <td>1</td>\n",
       "      <td>1</td>\n",
       "    </tr>\n",
       "    <tr>\n",
       "      <th>8</th>\n",
       "      <td>0.988389</td>\n",
       "      <td>1</td>\n",
       "      <td>0</td>\n",
       "    </tr>\n",
       "    <tr>\n",
       "      <th>9</th>\n",
       "      <td>0.626366</td>\n",
       "      <td>0</td>\n",
       "      <td>1</td>\n",
       "    </tr>\n",
       "    <tr>\n",
       "      <th>10</th>\n",
       "      <td>0.101931</td>\n",
       "      <td>0</td>\n",
       "      <td>0</td>\n",
       "    </tr>\n",
       "    <tr>\n",
       "      <th>11</th>\n",
       "      <td>0.003856</td>\n",
       "      <td>0</td>\n",
       "      <td>0</td>\n",
       "    </tr>\n",
       "    <tr>\n",
       "      <th>12</th>\n",
       "      <td>0.998852</td>\n",
       "      <td>1</td>\n",
       "      <td>1</td>\n",
       "    </tr>\n",
       "    <tr>\n",
       "      <th>13</th>\n",
       "      <td>0.989850</td>\n",
       "      <td>1</td>\n",
       "      <td>1</td>\n",
       "    </tr>\n",
       "    <tr>\n",
       "      <th>14</th>\n",
       "      <td>0.814935</td>\n",
       "      <td>1</td>\n",
       "      <td>1</td>\n",
       "    </tr>\n",
       "  </tbody>\n",
       "</table>\n",
       "</div>"
      ],
      "text/plain": [
       "    class_predicted_probability  predicted_class  real_class\n",
       "0                      0.996712                1           1\n",
       "1                      0.601601                0           0\n",
       "2                      0.991119                1           1\n",
       "3                      0.996319                1           1\n",
       "4                      0.951055                1           1\n",
       "5                      0.996943                1           1\n",
       "6                      0.993199                1           1\n",
       "7                      0.983054                1           1\n",
       "8                      0.988389                1           0\n",
       "9                      0.626366                0           1\n",
       "10                     0.101931                0           0\n",
       "11                     0.003856                0           0\n",
       "12                     0.998852                1           1\n",
       "13                     0.989850                1           1\n",
       "14                     0.814935                1           1"
      ]
     },
     "execution_count": 15,
     "metadata": {},
     "output_type": "execute_result"
    }
   ],
   "source": [
    "y_test = pd.Series(y_test).reset_index(drop=True)\n",
    "df_probs[\"real_class\"] = y_test\n",
    "df_probs.head(15)"
   ]
  },
  {
   "cell_type": "markdown",
   "id": "84192eb0",
   "metadata": {},
   "source": [
    "### 7. Model Evaluation  \n",
    "\n",
    "Using the **confusion matrix**, several metrics are computed to assess model performance:  \n",
    "\n",
    "- **Sensitivity (Recall)** → ability to detect positives.  \n",
    "- **Specificity** → ability to detect negatives.  \n",
    "- **Precision & NPV** → reliability of positive/negative predictions.  \n",
    "- **Accuracy & AUC** → overall performance and discrimination between classes.  \n",
    "\n",
    "These metrics together give a complete view of how well the model distinguishes between *Normal* and *Abnormal* cases.  \n"
   ]
  },
  {
   "cell_type": "code",
   "execution_count": 16,
   "id": "1b301172",
   "metadata": {},
   "outputs": [
    {
     "name": "stdout",
     "output_type": "stream",
     "text": [
      "Sensitivity or TPR: 80.95238095238095%\n",
      "Specificity or TNR: 80.0%\n",
      "Precision: 89.47368421052632%\n",
      "Negative Predictive Value: 66.66666666666666%\n",
      "False Positive Rate: 20.0%\n",
      "False Negative Rate: 19.047619047619047%\n",
      "False Discovery Rate: 10.526315789473683%\n",
      "Accuracy: 80.64516129032258%\n",
      "Validation AUC 0.8047619047619049\n"
     ]
    }
   ],
   "source": [
    "def plot_stats(test_labels, target_predicted_binary):\n",
    "    TN, FP, FN, TP = confusion_matrix(test_labels, target_predicted_binary).ravel()\n",
    "    # Sensitivity, hit rate, recall, or true positive rate\n",
    "    Sensitivity  = float(TP)/(TP+FN)*100\n",
    "    # Specificity or true negative rate\n",
    "    Specificity  = float(TN)/(TN+FP)*100\n",
    "    # Precision or positive predictive value\n",
    "    Precision = float(TP)/(TP+FP)*100\n",
    "    # Negative predictive value\n",
    "    NPV = float(TN)/(TN+FN)*100\n",
    "    # Fall out or false positive rate\n",
    "    FPR = float(FP)/(FP+TN)*100\n",
    "    # False negative rate\n",
    "    FNR = float(FN)/(TP+FN)*100\n",
    "    # False discovery rate\n",
    "    FDR = float(FP)/(TP+FP)*100\n",
    "    # Overall accuracy\n",
    "    ACC = float(TP+TN)/(TP+FP+FN+TN)*100\n",
    "\n",
    "    print(f\"Sensitivity or TPR: {Sensitivity}%\")    \n",
    "    print(f\"Specificity or TNR: {Specificity}%\") \n",
    "    print(f\"Precision: {Precision}%\")   \n",
    "    print(f\"Negative Predictive Value: {NPV}%\")  \n",
    "    print( f\"False Positive Rate: {FPR}%\") \n",
    "    print(f\"False Negative Rate: {FNR}%\")  \n",
    "    print(f\"False Discovery Rate: {FDR}%\" )\n",
    "    print(f\"Accuracy: {ACC}%\") \n",
    "\n",
    "    print(\"Validation AUC\", roc_auc_score(test_labels, target_predicted_binary) )\n",
    "\n",
    "\n",
    "plot_stats(df_probs['real_class'], df_probs['predicted_class'])"
   ]
  },
  {
   "cell_type": "markdown",
   "id": "f2cd1045",
   "metadata": {},
   "source": [
    "### Confusion Matrix  \n",
    "\n",
    "A **confusion matrix** compares model predictions with the real labels, showing how many cases were correctly or incorrectly classified in each category.  \n",
    "\n"
   ]
  },
  {
   "cell_type": "code",
   "execution_count": 17,
   "id": "952e5c28",
   "metadata": {},
   "outputs": [
    {
     "data": {
      "image/png": "[encoded data removed]",
      "text/plain": [
       "<Figure size 640x480 with 1 Axes>"
      ]
     },
     "metadata": {},
     "output_type": "display_data"
    }
   ],
   "source": [
    "\n",
    "def plot_confusion_matrix(test_labels, target_predicted, class_yes=\"Es\", class_no=\"No es\"):\n",
    "    # Matriz de confusión\n",
    "    matrix = confusion_matrix(test_labels, target_predicted)\n",
    "    \n",
    "    # Convertir a DataFrame con etiquetas personalizadas\n",
    "    df_confusion = pd.DataFrame(\n",
    "        matrix, \n",
    "        index=[ class_no, class_yes],       # Etiquetas para el eje Y (clases reales)\n",
    "        columns=[ class_no, class_yes]      # Etiquetas para el eje X (clases predichas)\n",
    "    )\n",
    "    \n",
    "    # Colormap\n",
    "    colormap = sns.color_palette(\"BrBG\", 10)\n",
    "    \n",
    "    # Graficar con seaborn\n",
    "    sns.heatmap(df_confusion, annot=True, fmt='d', cbar=None, cmap=colormap)\n",
    "    plt.title(\"Confusion Matrix\")\n",
    "    plt.ylabel(\"Real Class\")\n",
    "    plt.xlabel(\"Predicted Class\")\n",
    "    plt.tight_layout()\n",
    "    plt.show()\n",
    "\n",
    "# Ejemplo de uso\n",
    "plot_confusion_matrix(\n",
    "    df_probs['real_class'], \n",
    "    df_probs['predicted_class'], \n",
    "    class_yes=\"Abnormal\", \n",
    "    class_no=\"Normal\"\n",
    ")\n",
    "\n"
   ]
  },
  {
   "cell_type": "markdown",
   "id": "c1ac16ba",
   "metadata": {},
   "source": [
    "### ROC Curve  \n",
    "\n",
    "The **ROC curve** shows the trade-off between True Positive Rate (Sensitivity) and False Positive Rate at different thresholds.  \n",
    "\n",
    "- A good model’s curve approaches the **top-left corner** (high sensitivity, low false positives).  \n",
    "- The **diagonal line** represents random guessing.  \n",
    "- The **AUC value** summarizes performance: the closer to 1, the better the model distinguishes between classes.  \n"
   ]
  },
  {
   "cell_type": "code",
   "execution_count": 18,
   "id": "ba182c78",
   "metadata": {},
   "outputs": [
    {
     "data": {
      "image/png": "[encoded data removed]",
      "text/plain": [
       "<Figure size 640x480 with 2 Axes>"
      ]
     },
     "metadata": {},
     "output_type": "display_data"
    }
   ],
   "source": [
    "\n",
    "\n",
    "def plot_roc(test_labels, target_predicted_no_binary):\n",
    "    fpr, tpr, thresholds = roc_curve(test_labels,target_predicted_no_binary)\n",
    "\n",
    "    finite_indices = np.isfinite(thresholds) \n",
    "    fpr_finite = fpr[finite_indices]\n",
    "    tpr_finite = tpr[finite_indices]\n",
    "    thresholds_finite = thresholds[finite_indices]\n",
    "\n",
    "    plt.figure()\n",
    "    plt.plot(fpr_finite, tpr_finite, label='ROC curve (area = %0.2f)' % auc(fpr_finite, tpr_finite))\n",
    "    plt.plot([0, 1], [0, 1], 'k--')  # Dashed diagonal\n",
    "    plt.xlim([0.0, 1.0])\n",
    "    plt.ylim([0.0, 1.05])\n",
    "    plt.xlabel('False Positive Rate')\n",
    "    plt.ylabel('True Positive Rate')\n",
    "    plt.title('Receiver operating characteristic')\n",
    "    plt.legend(loc=\"lower right\")\n",
    "\n",
    "\n",
    "    if thresholds_finite.size > 0:\n",
    "        ax2 = plt.gca().twinx()\n",
    "        ax2.plot(fpr_finite, thresholds_finite, markeredgecolor='r', linestyle='dashed', color='r')\n",
    "        ax2.set_ylabel('Threshold', color='r')\n",
    "        ax2.set_ylim([thresholds_finite[-1], thresholds_finite[0]])\n",
    "        ax2.set_xlim([fpr_finite[0], fpr_finite[-1]])\n",
    "\n",
    "plot_roc(df_probs['real_class'], df_probs[\"class_predicted_probability\"] )\n",
    "\n",
    "    "
   ]
  },
  {
   "cell_type": "markdown",
   "id": "448f8ce5",
   "metadata": {},
   "source": [
    "### 8. Hyperparameter Tuning\n",
    "\n",
    "**Hyperparameters** are external settings of a machine learning model that are not learned during training and must be set beforehand.  \n",
    "\n",
    "Here, we use **Optuna** to optimize hyperparameters for an **XGBoost** model. The `objective` function is executed multiple times by Optuna with different hyperparameter values to find the best combination.  \n",
    "\n",
    "Ranges for hyperparameters (e.g., `alpha` from 0 to 100) were chosen to keep training time reasonable.  \n",
    "\n",
    "#### Tuned Hyperparameters\n",
    "- **alpha**: L1 regularization term to reduce overfitting.  \n",
    "- **min_child_weight**: Minimum weight for tree leaves; higher values simplify trees.  \n",
    "- **subsample**: Fraction of data used per tree to add randomness and prevent overfitting.  \n",
    "- **eta** (*learning rate*): Controls update magnitude per iteration; lower values improve robustness but slow training.  \n",
    "- **n_estimators**: Number of trees; more trees increase complexity but may overfit.  \n",
    "\n",
    "#### `objective` Function\n",
    "- Receives an Optuna `trial` proposing hyperparameter values.  \n",
    "- Builds an `XGBClassifier` with these values.  \n",
    "- Evaluates using **cross-validation** (`cv=3`), averaging scores over 3 folds.  \n",
    "- Returns `1 - score` (average error) because Optuna **minimizes** the objective.  \n",
    "\n",
    "#### Cross-Validation\n",
    "**Cross-validation** assesses a model's generalization by splitting the dataset into multiple folds.  \n",
    "Each iteration trains on some folds and evaluates on the rest, averaging performance for a more reliable metric.  \n",
    "\n"
   ]
  },
  {
   "cell_type": "code",
   "execution_count": 19,
   "id": "8e9886cc",
   "metadata": {},
   "outputs": [],
   "source": [
    "import optuna\n",
    "from xgboost import XGBClassifier\n",
    "from sklearn.model_selection import cross_val_score\n",
    "\n",
    "def objective(trial): \n",
    "    params = {\n",
    "        'objective': 'binary:logistic',\n",
    "        'eval_metric': 'error',\n",
    "        'alpha': trial.suggest_float('alpha', 0, 100),\n",
    "        'min_child_weight': trial.suggest_float('min_child_weight', 1, 5),\n",
    "        'subsample': trial.suggest_float('subsample', 0.5, 1),\n",
    "        'eta': trial.suggest_float('eta', 0.1, 0.3),\n",
    "        'n_estimators': trial.suggest_int('n_estimators', 1, 50)\n",
    "    }\n",
    "    \n",
    "    model = XGBClassifier(**params) \n",
    "    score = cross_val_score(model, X_train, y_train, cv=3, scoring='accuracy').mean()  \n",
    "\n",
    "    return 1 - score  \n",
    "\n",
    " "
   ]
  },
  {
   "cell_type": "markdown",
   "id": "cd694f82",
   "metadata": {},
   "source": [
    "### Running the Optimization\n",
    "\n",
    "We initialize and run **Optuna** to find the best hyperparameters:\n",
    "\n",
    "- `study = optuna.create_study(direction=\"minimize\")`: creates an optimization study to **minimize** the error.  \n",
    "- `study.optimize(objective, n_trials=3000)`: runs **3000 trials**, testing different hyperparameter combinations.  \n",
    "\n",
    "After completion, `study` contains the best hyperparameter values found.\n"
   ]
  },
  {
   "cell_type": "code",
   "execution_count": 21,
   "id": "9d63903c",
   "metadata": {},
   "outputs": [
    {
     "data": {
      "application/vnd.jupyter.widget-view+json": {
       "model_id": "dc99b62b5f56425d898b37c7d5f4c92b",
       "version_major": 2,
       "version_minor": 0
      },
      "text/plain": [
       "  0%|          | 0/3000 [00:00<?, ?it/s]"
      ]
     },
     "metadata": {},
     "output_type": "display_data"
    }
   ],
   "source": [
    "optuna.logging.set_verbosity(optuna.logging.WARNING)\n",
    "study = optuna.create_study(direction=\"minimize\")\n",
    "study.optimize(objective, n_trials=3000, show_progress_bar=True)"
   ]
  },
  {
   "cell_type": "markdown",
   "id": "a27d1628",
   "metadata": {},
   "source": [
    "These lines display the **best hyperparameters** found by Optuna and the **minimum error** achieved by the model using them.\n"
   ]
  },
  {
   "cell_type": "code",
   "execution_count": null,
   "id": "21b9c9f9",
   "metadata": {},
   "outputs": [
    {
     "name": "stdout",
     "output_type": "stream",
     "text": [
      "Mejores hiperparámetros: {'alpha': 6.53684764869967, 'min_child_weight': 2.462228636921284, 'subsample': 0.7088079630226983, 'eta': 0.253498795898189, 'n_estimators': 40}\n",
      " Mejor valor 0.1411499657165246\n"
     ]
    }
   ],
   "source": [
    "print(\"Mejores hiperparámetros:\", study.best_params, )\n",
    "print(\" Mejor valor\", study.best_value)\n"
   ]
  },
  {
   "cell_type": "markdown",
   "id": "e4ab8359",
   "metadata": {},
   "source": [
    "### 9. Training with Best Hyperparameters\n",
    "\n",
    "Using the best hyperparameters from Optuna, we create an **XGBoost** model, train it on all training data (`X_train`, `y_train`), and make predictions on the test set (`X_test`).\n"
   ]
  },
  {
   "cell_type": "code",
   "execution_count": null,
   "id": "c76a0482",
   "metadata": {},
   "outputs": [],
   "source": [
    "# Crear el modelo con los mejores hiperparámetros encontrados\n",
    "model = XGBClassifier(**study.best_params)\n",
    "\n",
    "# Entrenar en TODOS los datos de entrenamiento\n",
    "model.fit(X_train, y_train)\n",
    "\n",
    "# Hacer predicciones\n",
    "y_pred_best_prob = model.predict_proba(X_test)[:, 1]\n",
    "\n",
    "model.save_model(\"model/tunned_model.model\")"
   ]
  },
  {
   "cell_type": "markdown",
   "id": "58896c4c",
   "metadata": {},
   "source": [
    "### 10.Evaluación del modelo con los mejores hyperparametros\n",
    "\n",
    "Al igual que anteriore pasos se organiza en un DataFrame la probabilidad predicha por modelo y la clase real"
   ]
  },
  {
   "cell_type": "code",
   "execution_count": null,
   "id": "365f3bc1",
   "metadata": {},
   "outputs": [
    {
     "data": {
      "text/html": [
       "<div>\n",
       "<style scoped>\n",
       "    .dataframe tbody tr th:only-of-type {\n",
       "        vertical-align: middle;\n",
       "    }\n",
       "\n",
       "    .dataframe tbody tr th {\n",
       "        vertical-align: top;\n",
       "    }\n",
       "\n",
       "    .dataframe thead th {\n",
       "        text-align: right;\n",
       "    }\n",
       "</style>\n",
       "<table border=\"1\" class=\"dataframe\">\n",
       "  <thead>\n",
       "    <tr style=\"text-align: right;\">\n",
       "      <th></th>\n",
       "      <th>class_predicted_probability</th>\n",
       "      <th>real_class</th>\n",
       "    </tr>\n",
       "  </thead>\n",
       "  <tbody>\n",
       "    <tr>\n",
       "      <th>0</th>\n",
       "      <td>0.942950</td>\n",
       "      <td>1</td>\n",
       "    </tr>\n",
       "    <tr>\n",
       "      <th>1</th>\n",
       "      <td>0.515595</td>\n",
       "      <td>0</td>\n",
       "    </tr>\n",
       "    <tr>\n",
       "      <th>2</th>\n",
       "      <td>0.905142</td>\n",
       "      <td>1</td>\n",
       "    </tr>\n",
       "    <tr>\n",
       "      <th>3</th>\n",
       "      <td>0.919652</td>\n",
       "      <td>1</td>\n",
       "    </tr>\n",
       "    <tr>\n",
       "      <th>4</th>\n",
       "      <td>0.702617</td>\n",
       "      <td>1</td>\n",
       "    </tr>\n",
       "  </tbody>\n",
       "</table>\n",
       "</div>"
      ],
      "text/plain": [
       "   class_predicted_probability  real_class\n",
       "0                     0.942950           1\n",
       "1                     0.515595           0\n",
       "2                     0.905142           1\n",
       "3                     0.919652           1\n",
       "4                     0.702617           1"
      ]
     },
     "execution_count": 24,
     "metadata": {},
     "output_type": "execute_result"
    }
   ],
   "source": [
    "df_best_probs = pd.DataFrame(y_pred_best_prob, columns=['class_predicted_probability'])\n",
    "df_best_probs[\"real_class\"] = y_test\n",
    "df_best_probs.head()"
   ]
  },
  {
   "cell_type": "markdown",
   "id": "609bd391",
   "metadata": {},
   "source": [
    "### 10. Threshold Selection\n",
    "\n",
    "The model's threshold is determined using the **ROC curve**, typically selecting the point that balances false positives (FP) and false negatives (FN), closest to the top-left corner of the curve.\n",
    "\n",
    "However, the threshold decision should also consider the **medical context**. In this experiment, the goal is to detect orthopedic anomalies so patients receive proper treatment. False negatives are particularly serious: a patient with an anomaly could be misdiagnosed as healthy and miss needed care.\n",
    "\n",
    "With this in mind, the threshold prioritizes a **high true positive rate**, even if it increases false positives. Lowering the threshold diagnoses more patients as anomalous, reducing false negatives. While this increases false positives, it is preferable for a healthy person to receive unnecessary treatment than for a sick patient to go untreated.\n",
    "\n",
    "The ROC analysis suggests an optimal threshold around **0.6**, though this may vary per experiment and should be adjusted accordingly.\n"
   ]
  },
  {
   "cell_type": "code",
   "execution_count": null,
   "id": "5eb17499",
   "metadata": {},
   "outputs": [
    {
     "data": {
      "image/png": "[encoded data removed]",
      "text/plain": [
       "<Figure size 640x480 with 2 Axes>"
      ]
     },
     "metadata": {},
     "output_type": "display_data"
    }
   ],
   "source": [
    "plot_roc(df_best_probs['real_class'], df_best_probs[\"class_predicted_probability\"] )"
   ]
  },
  {
   "cell_type": "code",
   "execution_count": null,
   "id": "ffb3c553",
   "metadata": {},
   "outputs": [],
   "source": [
    "\n",
    "def binary_convert(x):\n",
    "    threshold = 0.6\n",
    "    if x > threshold:\n",
    "        return 1\n",
    "    else:\n",
    "        return 0\n",
    "    \n",
    "df_best_probs['predicted_class'] = df_best_probs['class_predicted_probability'].apply(binary_convert)\n"
   ]
  },
  {
   "cell_type": "markdown",
   "id": "1a4a8c26",
   "metadata": {},
   "source": [
    "### Evaluation Metrics\n",
    "\n",
    "The evaluation metrics show that the model achieves a **high true positive rate** and thus a **low false negative rate**, confirming that the chosen threshold meets the goal.  \n",
    "\n",
    "Compared to the initial model, it indeed has a higher true positive rate. As expected, there is a **moderate rate of false positives**.\n"
   ]
  },
  {
   "cell_type": "code",
   "execution_count": null,
   "id": "385e5181",
   "metadata": {},
   "outputs": [
    {
     "name": "stdout",
     "output_type": "stream",
     "text": [
      "Sensitivity or TPR: 95.23809523809523%\n",
      "Specificity or TNR: 80.0%\n",
      "Precision: 90.9090909090909%\n",
      "Negative Predictive Value: 88.88888888888889%\n",
      "False Positive Rate: 20.0%\n",
      "False Negative Rate: 4.761904761904762%\n",
      "False Discovery Rate: 9.090909090909092%\n",
      "Accuracy: 90.32258064516128%\n",
      "Validation AUC 0.8761904761904762\n"
     ]
    }
   ],
   "source": [
    "plot_stats(df_best_probs['real_class'], df_best_probs['predicted_class'])"
   ]
  },
  {
   "cell_type": "markdown",
   "id": "871819f7",
   "metadata": {},
   "source": [
    "\n",
    "\n",
    "Only **one patient** with orthopedic anomalies was misclassified, indicating that the model effectively serves its purpose.\n"
   ]
  },
  {
   "cell_type": "code",
   "execution_count": null,
   "id": "413653b1",
   "metadata": {},
   "outputs": [
    {
     "data": {
      "image/png": "[encoded data removed]",
      "text/plain": [
       "<Figure size 640x480 with 1 Axes>"
      ]
     },
     "metadata": {},
     "output_type": "display_data"
    }
   ],
   "source": [
    "plot_confusion_matrix(df_best_probs['real_class'], df_best_probs['predicted_class'])\n"
   ]
  }
 ],
 "metadata": {
  "kernelspec": {
   "display_name": "base",
   "language": "python",
   "name": "python3"
  },
  "language_info": {
   "codemirror_mode": {
    "name": "ipython",
    "version": 3
   },
   "file_extension": ".py",
   "mimetype": "text/x-python",
   "name": "python",
   "nbconvert_exporter": "python",
   "pygments_lexer": "ipython3",
   "version": "3.12.7"
  }
 },
 "nbformat": 4,
 "nbformat_minor": 5
}
